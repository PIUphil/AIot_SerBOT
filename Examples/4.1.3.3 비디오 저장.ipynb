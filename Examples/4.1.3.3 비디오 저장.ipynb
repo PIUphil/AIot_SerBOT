{
 "cells": [
  {
   "cell_type": "code",
   "execution_count": null,
   "metadata": {},
   "outputs": [],
   "source": [
    "import cv2\n",
    "from pop import Util\n",
    "\n",
    "Util.enable_imshow()"
   ]
  },
  {
   "cell_type": "code",
   "execution_count": null,
   "metadata": {},
   "outputs": [],
   "source": [
    "cam = Util.gstrmer(width=640, height=480)\n",
    "camera = cv2.VideoCapture(cam, cv2.CAP_GSTREAMER)\n",
    "if not camera.isOpened():\n",
    "    print(\"Not found camera\")"
   ]
  },
  {
   "cell_type": "code",
   "execution_count": null,
   "metadata": {},
   "outputs": [],
   "source": [
    "fourcc = cv2.VideoWriter_fourcc(*\"X264\")\n",
    "out = cv2.VideoWriter(\"soda.avi\", fourcc, 30, (640,480))"
   ]
  },
  {
   "cell_type": "code",
   "execution_count": null,
   "metadata": {},
   "outputs": [],
   "source": [
    "for _ in range(120):\n",
    "    ret, frame = camera.read()\n",
    "    framGray = cv2.cvtColor(frame, cv2.COLOR_BGR2GRAY)  \n",
    "    out.write(frame)\n",
    "\n",
    "    cv2.imshow(\"soda\", framGray)"
   ]
  },
  {
   "cell_type": "code",
   "execution_count": null,
   "metadata": {},
   "outputs": [],
   "source": [
    "camera.release()\n",
    "cv2.destroyAllWindows()"
   ]
  }
 ],
 "metadata": {
  "kernelspec": {
   "display_name": "Python 3",
   "language": "python",
   "name": "python3"
  },
  "language_info": {
   "codemirror_mode": {
    "name": "ipython",
    "version": 3
   },
   "file_extension": ".py",
   "mimetype": "text/x-python",
   "name": "python",
   "nbconvert_exporter": "python",
   "pygments_lexer": "ipython3",
   "version": "3.6.9"
  }
 },
 "nbformat": 4,
 "nbformat_minor": 4
}
