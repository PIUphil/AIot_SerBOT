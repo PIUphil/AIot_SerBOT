{
 "cells": [
  {
   "cell_type": "code",
   "execution_count": null,
   "metadata": {},
   "outputs": [],
   "source": [
    "import time\n",
    "import wave\n",
    "import pyaudio\n",
    "\n",
    "w = wave.open(\"/usr/share/sounds/alsa/Side_Left.wav\", \"rb\")"
   ]
  },
  {
   "cell_type": "code",
   "execution_count": null,
   "metadata": {},
   "outputs": [],
   "source": [
    "def callback(in_data, frame_count, time_info, status):\n",
    "    data = w.readframes(frame_count)\n",
    "    return (data, pyaudio.paContinue)"
   ]
  },
  {
   "cell_type": "code",
   "execution_count": null,
   "metadata": {},
   "outputs": [],
   "source": [
    "p = pyaudio.PyAudio()\n",
    "stream = p.open(format=p.get_format_from_width(w.getsampwidth()),\n",
    "                channels=w.getnchannels(),\n",
    "                rate=w.getframerate(),\n",
    "                output=True,\n",
    "                stream_callback=callback)\n",
    "\n",
    "stream.start_stream()"
   ]
  },
  {
   "cell_type": "code",
   "execution_count": null,
   "metadata": {},
   "outputs": [],
   "source": [
    "while stream.is_active():\n",
    "    print(\"main work...\")\n",
    "    time.sleep(0.1)\n",
    "\n",
    "stream.stop_stream()\n",
    "stream.close()\n",
    "p.terminate()"
   ]
  },
  {
   "cell_type": "code",
   "execution_count": null,
   "metadata": {},
   "outputs": [],
   "source": [
    "def callback(in_data, frame_count, time_info, status):\n",
    "    data = w.readframes(frame_count)\n",
    "    mod = frame_count - len(data) // w.getsampwidth()\n",
    "    if mod != 0:\n",
    "        w.rewind()\n",
    "        data += w.readframes(mod)\n",
    "\n",
    "    return (data, pyaudio.paContinue)"
   ]
  }
 ],
 "metadata": {
  "kernelspec": {
   "display_name": "Python 3",
   "language": "python",
   "name": "python3"
  },
  "language_info": {
   "codemirror_mode": {
    "name": "ipython",
    "version": 3
   },
   "file_extension": ".py",
   "mimetype": "text/x-python",
   "name": "python",
   "nbconvert_exporter": "python",
   "pygments_lexer": "ipython3",
   "version": "3.6.9"
  }
 },
 "nbformat": 4,
 "nbformat_minor": 4
}
