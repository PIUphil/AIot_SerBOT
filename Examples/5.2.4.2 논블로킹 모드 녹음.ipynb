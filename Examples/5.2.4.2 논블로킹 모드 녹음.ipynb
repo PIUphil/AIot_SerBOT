{
 "cells": [
  {
   "cell_type": "code",
   "execution_count": null,
   "metadata": {},
   "outputs": [],
   "source": [
    "import pyaudio\n",
    "import wave\n",
    "import time\n",
    "\n",
    "CHUNK = 1024\n",
    "RATE = 48000\n",
    "isStop = False"
   ]
  },
  {
   "cell_type": "code",
   "execution_count": null,
   "metadata": {},
   "outputs": [],
   "source": [
    "p = pyaudio.PyAudio()\n",
    "\n",
    "w = wave.open(\"out.wav\", 'wb')\n",
    "w.setsampwidth(p.get_sample_size(pyaudio.paInt16))\n",
    "w.setnchannels(1)\n",
    "w.setframerate(RATE)"
   ]
  },
  {
   "cell_type": "code",
   "execution_count": null,
   "metadata": {},
   "outputs": [],
   "source": [
    "def callback(in_data, frame_count, time_info, status):\n",
    "    w.writeframes(in_data)\n",
    "    data = chr(0) * len(in_data)\n",
    "    return (data, pyaudio.paContinue if not isStop else pyaudio. paComplete)"
   ]
  },
  {
   "cell_type": "code",
   "execution_count": null,
   "metadata": {},
   "outputs": [],
   "source": [
    "stream = p.open(format=pyaudio.paInt16, \n",
    "                channels=1, rate=RATE, input=True, \n",
    "                frames_per_buffer=CHUNK, \n",
    "                stream_callback=callback)"
   ]
  },
  {
   "cell_type": "code",
   "execution_count": null,
   "metadata": {},
   "outputs": [],
   "source": [
    "stream.start_stream()\n",
    "try:\n",
    "    print(\"Recording..\", end='')\n",
    "    while True:\n",
    "        print(\".\", end=\"\")\n",
    "        time.sleep(0.5)\n",
    "except KeyboardInterrupt:\n",
    "    isStop = True\n",
    "    time.sleep(1)"
   ]
  },
  {
   "cell_type": "code",
   "execution_count": null,
   "metadata": {},
   "outputs": [],
   "source": [
    "w.close()\n",
    "stream.stop_stream()\n",
    "stream.close()\n",
    "p.terminate()"
   ]
  }
 ],
 "metadata": {
  "kernelspec": {
   "display_name": "Python 3",
   "language": "python",
   "name": "python3"
  },
  "language_info": {
   "codemirror_mode": {
    "name": "ipython",
    "version": 3
   },
   "file_extension": ".py",
   "mimetype": "text/x-python",
   "name": "python",
   "nbconvert_exporter": "python",
   "pygments_lexer": "ipython3",
   "version": "3.6.9"
  }
 },
 "nbformat": 4,
 "nbformat_minor": 4
}
