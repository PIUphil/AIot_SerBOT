{
 "cells": [
  {
   "cell_type": "code",
   "execution_count": null,
   "metadata": {},
   "outputs": [],
   "source": [
    "import tensorflow.compat.v1 as tf\n",
    "tf.disable_v2_behavior()\n",
    " \n",
    "X = tf.placeholder(tf.float32)\n",
    "Y = tf.placeholder(tf.float32)\n",
    "W1 = tf.Variable(tf.random_uniform([1, 10], -1., 1.))\n",
    "W2 = tf.Variable(tf.random_uniform([10, 10], -1., 1.))\n",
    "W3 = tf.Variable(tf.random_uniform([10, 1], -1., 1.))"
   ]
  },
  {
   "cell_type": "code",
   "execution_count": null,
   "metadata": {},
   "outputs": [],
   "source": [
    "L1 = tf.matmul(X, W1) #input – hidden\n",
    "L1 = tf.nn.relu(L1)\n",
    "L2 = tf.matmul(L1, W2) #hidden – hidden\n",
    "L2 = tf.nn.relu(L2)\n",
    "model = tf.matmul(L2, W3) #hidden - output\n",
    "Loss = tf.reduce_mean(tf.reduce_mean(tf.square(Y - model)))"
   ]
  },
  {
   "cell_type": "code",
   "execution_count": null,
   "metadata": {},
   "outputs": [],
   "source": [
    "optimizer = tf.train.GradientDescentOptimizer(learning_rate=0.001)\n",
    "train_op = optimizer.minimize(Loss)"
   ]
  },
  {
   "cell_type": "code",
   "execution_count": null,
   "metadata": {},
   "outputs": [],
   "source": [
    "sess = tf.Session()\n",
    "sess.run(tf.global_variables_initializer())"
   ]
  },
  {
   "cell_type": "code",
   "execution_count": null,
   "metadata": {},
   "outputs": [],
   "source": [
    "X_data = [[0],[1],[2],[3],[4]]\n",
    "Y_data = [[0],[2],[4],[6],[8]]\n",
    "\n",
    "for i in range(500):\n",
    "    sess.run(train_op, feed_dict={X : X_data, Y : Y_data})\n",
    "    loss = sess.run(Loss, feed_dict={X : X_data, Y : Y_data})\n",
    "    print(loss)"
   ]
  },
  {
   "cell_type": "code",
   "execution_count": null,
   "metadata": {},
   "outputs": [],
   "source": [
    "n = [[7], [-10], [358]]\n",
    "result = sess.run(model, feed_dict={X : n})\n",
    "print(result)"
   ]
  }
 ],
 "metadata": {
  "kernelspec": {
   "display_name": "Python 3",
   "language": "python",
   "name": "python3"
  },
  "language_info": {
   "codemirror_mode": {
    "name": "ipython",
    "version": 3
   },
   "file_extension": ".py",
   "mimetype": "text/x-python",
   "name": "python",
   "nbconvert_exporter": "python",
   "pygments_lexer": "ipython3",
   "version": "3.6.9"
  },
  "widgets": {
   "application/vnd.jupyter.widget-state+json": {
    "state": {},
    "version_major": 2,
    "version_minor": 0
   }
  }
 },
 "nbformat": 4,
 "nbformat_minor": 4
}
