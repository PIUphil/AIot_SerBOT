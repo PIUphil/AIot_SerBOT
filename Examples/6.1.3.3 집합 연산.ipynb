{
 "cells": [
  {
   "cell_type": "code",
   "execution_count": null,
   "metadata": {},
   "outputs": [],
   "source": [
    "import numpy as np\n",
    "\n",
    "x =  np.ones((2,2))\n",
    "print(x)\n",
    "y =  np.arange(3,-1,-1).reshape(2,2)\n",
    "print(y)\n",
    "\n",
    "s1 =  np.sort(y)\n",
    "print(s1)\n",
    "s2 =  np.unique(x)\n",
    "print(s2)\n",
    "s3 =  np.union1d(x,y)\n",
    "print(s3)\n",
    "s4 =  np.setdiff1d(y,x)\n",
    "print(s4)"
   ]
  }
 ],
 "metadata": {
  "kernelspec": {
   "display_name": "Python 3",
   "language": "python",
   "name": "python3"
  },
  "language_info": {
   "codemirror_mode": {
    "name": "ipython",
    "version": 3
   },
   "file_extension": ".py",
   "mimetype": "text/x-python",
   "name": "python",
   "nbconvert_exporter": "python",
   "pygments_lexer": "ipython3",
   "version": "3.6.9"
  },
  "widgets": {
   "application/vnd.jupyter.widget-state+json": {
    "state": {},
    "version_major": 2,
    "version_minor": 0
   }
  }
 },
 "nbformat": 4,
 "nbformat_minor": 4
}
