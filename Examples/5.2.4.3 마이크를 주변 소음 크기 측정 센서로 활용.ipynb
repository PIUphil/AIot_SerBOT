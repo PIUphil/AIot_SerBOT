{
 "cells": [
  {
   "cell_type": "code",
   "execution_count": null,
   "metadata": {
    "scrolled": true
   },
   "outputs": [],
   "source": [
    "import pyaudio\n",
    "import audioop \n",
    "import time\n",
    "\n",
    "CHUNK = 1024\n",
    "RATE = 48000\n",
    "isStop = False\n",
    "\n",
    "p = pyaudio.PyAudio()\n",
    "\n",
    "def callback(in_data, frame_count, time_info, status):\n",
    "    rms = audioop.rms(in_data, 2)\n",
    "    print('=' * (rms//50), '*(', rms, ')')\n",
    "    data = chr(0) * len(in_data)\n",
    "    return (data, pyaudio.paContinue if not isStop else pyaudio.paAbort)\n",
    "\n",
    "stream = p.open(format=pyaudio.paInt16,\n",
    "                channels=1,\n",
    "                rate=RATE,\n",
    "                input=True,\n",
    "                frames_per_buffer=CHUNK,\n",
    "                stream_callback=callback)\n",
    "stream.start_stream()\n",
    "\n",
    "try:\n",
    "    while True:\n",
    "        time.sleep(0.1)\n",
    "except KeyboardInterrupt:\n",
    "    isStop = True\n",
    "\n",
    "stream.stop_stream()\n",
    "stream.close()\n",
    "p.terminate()"
   ]
  }
 ],
 "metadata": {
  "kernelspec": {
   "display_name": "Python 3",
   "language": "python",
   "name": "python3"
  },
  "language_info": {
   "codemirror_mode": {
    "name": "ipython",
    "version": 3
   },
   "file_extension": ".py",
   "mimetype": "text/x-python",
   "name": "python",
   "nbconvert_exporter": "python",
   "pygments_lexer": "ipython3",
   "version": "3.6.9"
  }
 },
 "nbformat": 4,
 "nbformat_minor": 4
}
