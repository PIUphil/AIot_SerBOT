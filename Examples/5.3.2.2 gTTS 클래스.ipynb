{
 "cells": [
  {
   "cell_type": "code",
   "execution_count": null,
   "metadata": {},
   "outputs": [],
   "source": [
    "from gtts import gTTS\n",
    "import subprocess\n",
    "\n",
    "text = \"And the saddest thing. under the sun above\"\n",
    "filename = \"en_tts.mp3\"\n",
    "\n",
    "tts = gTTS(text)\n",
    "tts.save(filename)"
   ]
  },
  {
   "cell_type": "code",
   "execution_count": null,
   "metadata": {},
   "outputs": [],
   "source": [
    "with subprocess.Popen(['play', filename]) as p:\n",
    "    p.wait()"
   ]
  },
  {
   "cell_type": "code",
   "execution_count": null,
   "metadata": {},
   "outputs": [],
   "source": [
    "from gtts import gTTS\n",
    "import subprocess\n",
    "\n",
    "FILE_NAME = '너의 하늘을 보아.mp3'\n",
    "\n",
    "TEXT = \"\"\"네가 자꾸 쓰러지는 것은\n",
    "네가 꼭 이룰 것이 있기 때문이야\n",
    "네가 지금 길을 잃어버린 것은\n",
    "네가 가야만 할 길이 있기 때문이야\n",
    "네가 다시 울며 가는 것은\n",
    "네가 꽃피워 낼 것이 있기 때문이야\n",
    "힘들고 앞이 안 보일 때는\n",
    "너의 하늘을 보아\"\"\"\n",
    "\n",
    "tts = gTTS(TEXT, lang='ko')\n",
    "tts.save(FILE_NAME)\n",
    "\n",
    "with subprocess.Popen(['play', FILE_NAME]) as p:\n",
    "    p.wait()"
   ]
  },
  {
   "cell_type": "code",
   "execution_count": null,
   "metadata": {},
   "outputs": [],
   "source": [
    "from gtts import gTTS\n",
    "import subprocess\n",
    "\n",
    "try:\n",
    "    while True:\n",
    "        f = input(\"Enter of file name: \")\n",
    "        t = input(\"Enter of Text: \")\n",
    "        l = input(\"Select language (ko | en): \")\n",
    "        \n",
    "        tts = gTTS(t, lang=l)\n",
    "        tts.save(f + \".mp3\")\n",
    "\n",
    "        with subprocess.Popen([\"play\", f + \".mp3\"]) as p:\n",
    "            p.wait()\n",
    "except KeyboardInterrupt:\n",
    "    pass"
   ]
  }
 ],
 "metadata": {
  "kernelspec": {
   "display_name": "Python 3",
   "language": "python",
   "name": "python3"
  },
  "language_info": {
   "codemirror_mode": {
    "name": "ipython",
    "version": 3
   },
   "file_extension": ".py",
   "mimetype": "text/x-python",
   "name": "python",
   "nbconvert_exporter": "python",
   "pygments_lexer": "ipython3",
   "version": "3.6.9"
  }
 },
 "nbformat": 4,
 "nbformat_minor": 4
}
