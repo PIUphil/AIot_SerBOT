{
 "cells": [
  {
   "cell_type": "code",
   "execution_count": 2,
   "metadata": {},
   "outputs": [
    {
     "name": "stderr",
     "output_type": "stream",
     "text": [
      "INFO:root:Connecting to embeddedassistant.googleapis.com\n",
      "INFO:root:Using device model soda-nano-release and device id c21dc77c-8452-11ea-a565-00e04c6802c8\n",
      "INFO:root:Recording audio request.\n"
     ]
    },
    {
     "name": "stdout",
     "output_type": "stream",
     "text": [
      ">>> Start recording....\n"
     ]
    },
    {
     "name": "stderr",
     "output_type": "stream",
     "text": [
      "INFO:root:End of audio request detected.\n",
      "INFO:root:Stopping recording.\n",
      "INFO:root:Finished playing assistant response.\n",
      "INFO:root:Recording audio request.\n"
     ]
    },
    {
     "name": "stdout",
     "output_type": "stream",
     "text": [
      ">>> Start recording....\n"
     ]
    },
    {
     "name": "stderr",
     "output_type": "stream",
     "text": [
      "INFO:root:End of audio request detected.\n",
      "INFO:root:Stopping recording.\n",
      "INFO:root:Finished playing assistant response.\n",
      "INFO:root:Recording audio request.\n"
     ]
    },
    {
     "name": "stdout",
     "output_type": "stream",
     "text": [
      ">>> Start recording....\n"
     ]
    },
    {
     "name": "stderr",
     "output_type": "stream",
     "text": [
      "ERROR:grpc._channel:Exception iterating requests!\n",
      "Traceback (most recent call last):\n",
      "  File \"/usr/local/lib/python3.8/site-packages/grpc/_channel.py\", line 195, in consume_request_iterator\n",
      "    request = next(request_iterator)\n",
      "  File \"/usr/local/lib/python3.8/site-packages/popAssist.py\", line 127, in iter_log_assist_requests\n",
      "    for c in self.gen_assist_requests():\n",
      "  File \"/usr/local/lib/python3.8/site-packages/popAssist.py\", line 216, in gen_assist_requests\n",
      "    for data in self.conversation_stream:\n",
      "  File \"/usr/local/lib/python3.8/site-packages/googlesamples/assistant/grpc/audio_helpers.py\", line 340, in __iter__\n",
      "    yield self.read(self._iter_size)\n",
      "  File \"/usr/local/lib/python3.8/site-packages/googlesamples/assistant/grpc/audio_helpers.py\", line 321, in read\n",
      "    return self._source.read(size)\n",
      "  File \"/usr/local/lib/python3.8/site-packages/googlesamples/assistant/grpc/audio_helpers.py\", line 199, in read\n",
      "    buf, overflow = self._audio_stream.read(size)\n",
      "  File \"/usr/local/lib/python3.8/site-packages/sounddevice.py\", line 1196, in read\n",
      "    _check(err)\n",
      "  File \"/usr/local/lib/python3.8/site-packages/sounddevice.py\", line 2651, in _check\n",
      "    raise PortAudioError(errormsg, err, hosterror_info)\n",
      "sounddevice.PortAudioError: <unprintable PortAudioError object>\n",
      "Exception in thread Thread-63:\n",
      "Traceback (most recent call last):\n",
      "  File \"/usr/local/lib/python3.8/threading.py\", line 932, in _bootstrap_inner\n",
      "    self.run()\n",
      "  File \"/usr/local/lib/python3.8/threading.py\", line 870, in run\n",
      "    self._target(*self._args, **self._kwargs)\n",
      "  File \"<ipython-input-2-b913d9ba5304>\", line 23, in onStop\n",
      "  File \"/usr/local/lib/python3.8/site-packages/tenacity/__init__.py\", line 311, in wrapped_f\n",
      "    return self.call(f, *args, **kw)\n",
      "  File \"/usr/local/lib/python3.8/site-packages/tenacity/__init__.py\", line 391, in call\n",
      "    do = self.iter(retry_state=retry_state)\n",
      "  File \"/usr/local/lib/python3.8/site-packages/tenacity/__init__.py\", line 338, in iter\n",
      "    return fut.result()\n",
      "  File \"/usr/local/lib/python3.8/concurrent/futures/_base.py\", line 432, in result\n",
      "    return self.__get_result()\n",
      "  File \"/usr/local/lib/python3.8/concurrent/futures/_base.py\", line 388, in __get_result\n",
      "    raise self._exception\n",
      "  File \"/usr/local/lib/python3.8/site-packages/tenacity/__init__.py\", line 394, in call\n",
      "    result = fn(*args, **kwargs)\n",
      "  File \"/usr/local/lib/python3.8/site-packages/popAssist.py\", line 137, in assist\n",
      "    for resp in self.assistant.Assist(iter_log_assist_requests(), self.deadline):\n",
      "  File \"/usr/local/lib/python3.8/site-packages/grpc/_channel.py\", line 416, in __next__\n",
      "    return self._next()\n",
      "  File \"/usr/local/lib/python3.8/site-packages/grpc/_channel.py\", line 706, in _next\n",
      "    raise self\n",
      "grpc._channel._MultiThreadedRendezvous: <_MultiThreadedRendezvous of RPC that terminated with:\n",
      "\tstatus = StatusCode.UNKNOWN\n",
      "\tdetails = \"Exception iterating requests!\"\n",
      "\tdebug_error_string = \"None\"\n",
      ">\n"
     ]
    }
   ],
   "source": [
    "from popAssist import *\n",
    "from pop import Camera\n",
    "import cv2\n",
    "import subprocess\n",
    "import time\n",
    "\n",
    "device_handler = create_device_handler()\n",
    "stream = create_conversation_stream()\n",
    "cam = Camera(width=300, height=300)\n",
    "\n",
    "@device_handler.command(\"TakePicture\")\n",
    "def takePicture():\n",
    "    print(\"Take picture...\")\n",
    "    cv2.imwrite(\"picture.png\", cam.value)\n",
    "\n",
    "ga = GAssistant(stream, google_device_handler=device_handler) \n",
    "\n",
    "try:\n",
    "    def onStart():\n",
    "        print(\">>> Start recording....\")\n",
    "\n",
    "    def onStop():\n",
    "        ga.assist(onStart, onStop)\n",
    "\n",
    "    ga.assist(onStart, onStop)\n",
    "\n",
    "    while True: \n",
    "        time.sleep(1)\n",
    "except KeyboardInterrupt:\n",
    "    stream.close()"
   ]
  },
  {
   "cell_type": "code",
   "execution_count": null,
   "metadata": {},
   "outputs": [],
   "source": []
  }
 ],
 "metadata": {
  "kernelspec": {
   "display_name": "Python 3",
   "language": "python",
   "name": "python3"
  },
  "language_info": {
   "codemirror_mode": {
    "name": "ipython",
    "version": 3
   },
   "file_extension": ".py",
   "mimetype": "text/x-python",
   "name": "python",
   "nbconvert_exporter": "python",
   "pygments_lexer": "ipython3",
   "version": "3.8.2"
  }
 },
 "nbformat": 4,
 "nbformat_minor": 4
}
