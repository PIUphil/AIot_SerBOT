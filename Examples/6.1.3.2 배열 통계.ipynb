{
 "cells": [
  {
   "cell_type": "code",
   "execution_count": null,
   "metadata": {},
   "outputs": [],
   "source": [
    "import numpy as np\n",
    "\n",
    "x =  np.arange(4).reshape(2,2)\n",
    "print(x)\n",
    "\n",
    "s1 =  np.sum(x)\n",
    "print(s1)\n",
    "s2 =  np.mean(x)\n",
    "print(s2)\n",
    "s3 =  np.max(x)\n",
    "print(s3)\n",
    "s4 =  np.min(x)\n",
    "print(s4)"
   ]
  },
  {
   "cell_type": "code",
   "execution_count": null,
   "metadata": {},
   "outputs": [],
   "source": [
    "import numpy as np\n",
    "\n",
    "x =  np.arange(4).reshape(2,2)\n",
    "print(x)\n",
    "\n",
    "s1 =  np.std(x)\n",
    "print(s1)\n",
    "s2 =  np.var(x)\n",
    "print(s2)\n",
    "s3 =  np.cumsum(x)\n",
    "print(s3)\n",
    "s4 =  np.cumprod(x)\n",
    "print(s4)"
   ]
  }
 ],
 "metadata": {
  "kernelspec": {
   "display_name": "Python 3",
   "language": "python",
   "name": "python3"
  },
  "language_info": {
   "codemirror_mode": {
    "name": "ipython",
    "version": 3
   },
   "file_extension": ".py",
   "mimetype": "text/x-python",
   "name": "python",
   "nbconvert_exporter": "python",
   "pygments_lexer": "ipython3",
   "version": "3.6.9"
  },
  "widgets": {
   "application/vnd.jupyter.widget-state+json": {
    "state": {},
    "version_major": 2,
    "version_minor": 0
   }
  }
 },
 "nbformat": 4,
 "nbformat_minor": 4
}
