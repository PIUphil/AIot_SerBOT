{
 "cells": [
  {
   "attachments": {
    "image.png": {
     "image/png": "[encoded data removed]"
    }
   },
   "cell_type": "markdown",
   "metadata": {},
   "source": [
    "<br><br><center><h1><a href=\"https://github.com/hanback-docs/ssd_mobilenet_v2_coco_engine\">사전 학습 모델 다운로드</a><br></h1>\n",
    "https://github.com/hanback-docs/ssd_mobilenet_v2_coco_engine<br>\n",
    "![image.png](attachment:image.png)</center>"
   ]
  },
  {
   "cell_type": "markdown",
   "metadata": {},
   "source": [
    "<br><br>\n",
    "\n",
    "# 학습 모델 활용"
   ]
  },
  {
   "cell_type": "code",
   "execution_count": null,
   "metadata": {},
   "outputs": [],
   "source": [
    "from pop import Pilot\n",
    "\n",
    "cam=Pilot.Camera(width=300, height=300)\n",
    "bot=Pilot.SerBot()\n",
    "\n",
    "OF=Pilot.Object_Follow(cam)\n",
    "OF.load_model()"
   ]
  },
  {
   "cell_type": "code",
   "execution_count": null,
   "metadata": {},
   "outputs": [],
   "source": [
    "v=OF.detect(index='person')\n",
    "print(v)"
   ]
  },
  {
   "cell_type": "code",
   "execution_count": null,
   "metadata": {},
   "outputs": [],
   "source": [
    "v=OF.detect(index='person')\n",
    "print(v)"
   ]
  },
  {
   "cell_type": "code",
   "execution_count": null,
   "metadata": {},
   "outputs": [],
   "source": [
    "OF.show()"
   ]
  },
  {
   "cell_type": "code",
   "execution_count": null,
   "metadata": {},
   "outputs": [],
   "source": [
    "while True:\n",
    "    v=OF.detect(index='person')\n",
    "    \n",
    "    if v is not None:\n",
    "        steer=v['x']*4\n",
    "\n",
    "        if steer > 1:\n",
    "            steer=1\n",
    "        elif steer < -1:\n",
    "            steer=-1\n",
    "\n",
    "        bot.steering=steer\n",
    "\n",
    "        if v['size_rate']<0.20:\n",
    "            bot.forward(50)\n",
    "        else:\n",
    "            bot.stop()\n",
    "    else:\n",
    "        bot.stop()"
   ]
  }
 ],
 "metadata": {
  "kernelspec": {
   "display_name": "Python 3",
   "language": "python",
   "name": "python3"
  },
  "language_info": {
   "codemirror_mode": {
    "name": "ipython",
    "version": 3
   },
   "file_extension": ".py",
   "mimetype": "text/x-python",
   "name": "python",
   "nbconvert_exporter": "python",
   "pygments_lexer": "ipython3",
   "version": "3.6.9"
  },
  "widgets": {
   "application/vnd.jupyter.widget-state+json": {
    "state": {},
    "version_major": 2,
    "version_minor": 0
   }
  }
 },
 "nbformat": 4,
 "nbformat_minor": 4
}
