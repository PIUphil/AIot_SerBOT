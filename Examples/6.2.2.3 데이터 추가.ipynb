{
 "cells": [
  {
   "cell_type": "code",
   "execution_count": null,
   "metadata": {},
   "outputs": [],
   "source": [
    "import pandas as pd\n",
    "\n",
    "value = [[32, 68, 220, 72],\n",
    "        [28, 30, 0, 12],\n",
    "        [38, 81, 0, 91]]\n",
    "columns = [\"온도\", \"습도\", \"강수량\", \"불쾌지수\"]\n",
    "index = [\"초여름\", \"늦봄\", \"한여름\"]\n",
    "df = pd.DataFrame(value, index=index, columns=columns)\n",
    "\n",
    "value2 = [[37, 90, 120, 94]]\n",
    "index2 = [\"한여름\"]\n",
    "df2 = pd.DataFrame(value2, index=index2, columns=columns)\n",
    "\n",
    "print(df.append(df2))"
   ]
  },
  {
   "cell_type": "code",
   "execution_count": null,
   "metadata": {},
   "outputs": [],
   "source": [
    "import pandas as pd\n",
    "\n",
    "value = [[32, 68, 220, 72],\n",
    "        [28, 30, 0, 12],\n",
    "        [38, 81, 0, 91]]\n",
    "columns = [\"온도\", \"습도\", \"강수량\", \"불쾌지수\"]\n",
    "index = [\"초여름\", \"늦봄\", \"한여름\"]\n",
    "df = pd.DataFrame(value, index=index, columns=columns)\n",
    "\n",
    "df.insert(0, \"자외선\", [6, 3, 7])\n",
    "print(df) "
   ]
  },
  {
   "cell_type": "code",
   "execution_count": null,
   "metadata": {},
   "outputs": [],
   "source": [
    "import pandas as pd\n",
    "\n",
    "value = [[32, 68, 220, 72],\n",
    "        [28, 30, 0, 12],\n",
    "        [38, 81, 0, 91]]\n",
    "columns = [\"온도\", \"습도\", \"강수량\", \"불쾌지수\"]\n",
    "index = [\"초여름\", \"늦봄\", \"한여름\"]\n",
    "df = pd.DataFrame(value, index=index, columns=columns)\n",
    "\n",
    "df.insert(0, \"자외선\", 0)\n",
    "print(df) "
   ]
  }
 ],
 "metadata": {
  "kernelspec": {
   "display_name": "Python 3",
   "language": "python",
   "name": "python3"
  },
  "language_info": {
   "codemirror_mode": {
    "name": "ipython",
    "version": 3
   },
   "file_extension": ".py",
   "mimetype": "text/x-python",
   "name": "python",
   "nbconvert_exporter": "python",
   "pygments_lexer": "ipython3",
   "version": "3.6.9"
  },
  "widgets": {
   "application/vnd.jupyter.widget-state+json": {
    "state": {},
    "version_major": 2,
    "version_minor": 0
   }
  }
 },
 "nbformat": 4,
 "nbformat_minor": 4
}
