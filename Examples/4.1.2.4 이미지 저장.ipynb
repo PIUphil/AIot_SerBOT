{
 "cells": [
  {
   "cell_type": "code",
   "execution_count": null,
   "metadata": {},
   "outputs": [],
   "source": [
    "import cv2\n",
    "\n",
    "imgOrigin = cv2.imread(\"img.jpg\", cv2.IMREAD_COLOR) \n",
    "imgGray = cv2.imread(\"img.jpg\", cv2.IMREAD_GRAYSCALE)\n",
    "\n",
    "cv2.imwrite(\"img.jpg\", imgOrigin)\n",
    "cv2.imwrite(\"imgGray.jpg\", imgGray)"
   ]
  }
 ],
 "metadata": {
  "kernelspec": {
   "display_name": "Python 3",
   "language": "python",
   "name": "python3"
  },
  "language_info": {
   "codemirror_mode": {
    "name": "ipython",
    "version": 3
   },
   "file_extension": ".py",
   "mimetype": "text/x-python",
   "name": "python",
   "nbconvert_exporter": "python",
   "pygments_lexer": "ipython3",
   "version": "3.6.9"
  }
 },
 "nbformat": 4,
 "nbformat_minor": 4
}
