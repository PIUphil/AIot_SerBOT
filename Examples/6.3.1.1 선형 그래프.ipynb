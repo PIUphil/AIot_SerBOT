{
 "cells": [
  {
   "cell_type": "code",
   "execution_count": null,
   "metadata": {},
   "outputs": [],
   "source": [
    "import matplotlib.pyplot as plt\n",
    "import numpy as np\n",
    "\n",
    "data=np.random.random(10)\n",
    "plt.plot(data)\n",
    "plt.show()"
   ]
  },
  {
   "cell_type": "code",
   "execution_count": null,
   "metadata": {},
   "outputs": [],
   "source": [
    "import matplotlib.pyplot as plt\n",
    "import numpy as np\n",
    "\n",
    "data=np.random.random(30).reshape(10,3)\n",
    "plt.plot(data)\n",
    "plt.show()"
   ]
  },
  {
   "cell_type": "code",
   "execution_count": null,
   "metadata": {},
   "outputs": [],
   "source": [
    "import matplotlib.pyplot as plt\n",
    "import numpy as np\n",
    "\n",
    "data=np.random.random(10)\n",
    "plt.plot([0,10,20,30,40,50,40,30,20,10], data)\n",
    "plt.show()"
   ]
  },
  {
   "cell_type": "code",
   "execution_count": null,
   "metadata": {},
   "outputs": [],
   "source": [
    "points=[np.deg2rad(90), \n",
    "        np.deg2rad(18), \n",
    "        np.deg2rad(306), \n",
    "        np.deg2rad(234), \n",
    "        np.deg2rad(162)]\n",
    "\n",
    "x=[np.cos(points[0]),\n",
    "   np.cos(points[3]),\n",
    "   np.cos(points[1]),\n",
    "   np.cos(points[4]),\n",
    "   np.cos(points[2]),\n",
    "   np.cos(points[0])]\n",
    "\n",
    "y=[np.sin(points[0]),\n",
    "   np.sin(points[3]),\n",
    "   np.sin(points[1]),\n",
    "   np.sin(points[4]),\n",
    "   np.sin(points[2]),\n",
    "   np.sin(points[0])] \n",
    "\n",
    "plt.ylim(-1,1)\n",
    "plt.xlim(-1,1)\n",
    "plt.rcParams[\"figure.figsize\"] = (5,5)\n",
    "plt.plot(x,y)\n",
    "plt.show()"
   ]
  }
 ],
 "metadata": {
  "kernelspec": {
   "display_name": "Python 3",
   "language": "python",
   "name": "python3"
  },
  "language_info": {
   "codemirror_mode": {
    "name": "ipython",
    "version": 3
   },
   "file_extension": ".py",
   "mimetype": "text/x-python",
   "name": "python",
   "nbconvert_exporter": "python",
   "pygments_lexer": "ipython3",
   "version": "3.6.9"
  },
  "widgets": {
   "application/vnd.jupyter.widget-state+json": {
    "state": {},
    "version_major": 2,
    "version_minor": 0
   }
  }
 },
 "nbformat": 4,
 "nbformat_minor": 4
}
