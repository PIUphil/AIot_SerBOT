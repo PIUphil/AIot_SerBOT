{
 "cells": [
  {
   "cell_type": "code",
   "execution_count": null,
   "metadata": {},
   "outputs": [],
   "source": [
    "import pyaudio\n",
    "import numpy as np\n",
    "\n",
    "class Tone:\n",
    "    def __init__(self, volume=.5, rate=48000, channels=1): \n",
    "        self.volume = volume\n",
    "        self.rate = rate\n",
    "        self.channels = channels\n",
    "        self.p = pyaudio.PyAudio()\n",
    "        self.stream = self.p.open(format=pyaudio.paFloat32, channels=self.channels, rate=self.rate, output=True)\n",
    "        \n",
    "    def play(self, octave, note, duration):\n",
    "        f = 2**(octave) * 55 * 2**(((note) - 10) / 12)\n",
    "        sample = (np.sin(2 * np.pi * np.arange(self.rate * duration) * f / self.rate)).astype(np.float32)\n",
    "        self.stream.write(self.volume * sample)\n",
    "        \n",
    "    def stop(self):\n",
    "        self.stream.stop_stream()\n",
    "        self.stream.close() \n",
    "        self.p.terminate()\n",
    "        \n",
    "    def __enter__(self):\n",
    "        return self\n",
    "\n",
    "    def __exit__(self, type, value, traceback):\n",
    "        self.stop()"
   ]
  },
  {
   "cell_type": "code",
   "execution_count": null,
   "metadata": {},
   "outputs": [],
   "source": [
    "with Tone() as tone: \n",
    "     for n in [1, 3, 5, 7, 8, 10, 12]:\n",
    "            tone.play(3, n, 4)"
   ]
  }
 ],
 "metadata": {
  "kernelspec": {
   "display_name": "Python 3",
   "language": "python",
   "name": "python3"
  },
  "language_info": {
   "codemirror_mode": {
    "name": "ipython",
    "version": 3
   },
   "file_extension": ".py",
   "mimetype": "text/x-python",
   "name": "python",
   "nbconvert_exporter": "python",
   "pygments_lexer": "ipython3",
   "version": "3.6.9"
  }
 },
 "nbformat": 4,
 "nbformat_minor": 4
}
