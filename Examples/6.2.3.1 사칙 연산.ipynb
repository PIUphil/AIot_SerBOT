{
 "cells": [
  {
   "cell_type": "code",
   "execution_count": null,
   "metadata": {},
   "outputs": [],
   "source": [
    "import pandas as pd\n",
    "\n",
    "value = [[7, 5],\n",
    "    [5, 1],\n",
    "    [3, -1]]\n",
    "df = pd.DataFrame(value)\n",
    "\n",
    "value2 = [[1, -3]]\n",
    "df2 = pd.DataFrame(value2) \n",
    "\n",
    "print(df.add(df2))\n",
    "print(df.sub(df2))\n",
    "print(df.mul(df2))\n",
    "print(df.div(df2))"
   ]
  },
  {
   "cell_type": "code",
   "execution_count": null,
   "metadata": {},
   "outputs": [],
   "source": [
    "print(df.add(df2, fill_value=0))\n",
    "print(df.sub(df2, fill_value=0))\n",
    "print(df.mul(df2, fill_value=1))\n",
    "print(df.div(df2, fill_value=1))"
   ]
  }
 ],
 "metadata": {
  "kernelspec": {
   "display_name": "Python 3",
   "language": "python",
   "name": "python3"
  },
  "language_info": {
   "codemirror_mode": {
    "name": "ipython",
    "version": 3
   },
   "file_extension": ".py",
   "mimetype": "text/x-python",
   "name": "python",
   "nbconvert_exporter": "python",
   "pygments_lexer": "ipython3",
   "version": "3.6.9"
  },
  "widgets": {
   "application/vnd.jupyter.widget-state+json": {
    "state": {},
    "version_major": 2,
    "version_minor": 0
   }
  }
 },
 "nbformat": 4,
 "nbformat_minor": 4
}
