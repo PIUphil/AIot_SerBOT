{
 "cells": [
  {
   "cell_type": "code",
   "execution_count": null,
   "metadata": {},
   "outputs": [],
   "source": [
    "import numpy as np\n",
    "\n",
    "arr =  np.arange(10)\n",
    "print(arr)\n",
    "reshp =  arr.reshape(2,5)\n",
    "print(reshp)"
   ]
  },
  {
   "cell_type": "code",
   "execution_count": null,
   "metadata": {},
   "outputs": [],
   "source": [
    "import numpy as np\n",
    "\n",
    "arr =  np.arange(10)\n",
    "print(arr)\n",
    "s1 =  arr[5]\n",
    "print(s1)\n",
    "s2 = arr[:5]\n",
    "print(s2)\n",
    "s3 = arr[2:5]\n",
    "print(s3)"
   ]
  },
  {
   "cell_type": "code",
   "execution_count": null,
   "metadata": {},
   "outputs": [],
   "source": [
    "import numpy as np\n",
    "\n",
    "arr =  np.arange(10).reshape(2,5)\n",
    "print(arr)\n",
    "s1 =  arr[1,4]\n",
    "print(s1)\n",
    "s2 = arr[1:]\n",
    "print(s2)\n",
    "s3 = arr[0, :]\n",
    "print(s3)\n",
    "s4 = arr[:, 0]\n",
    "print(s4)"
   ]
  }
 ],
 "metadata": {
  "kernelspec": {
   "display_name": "Python 3",
   "language": "python",
   "name": "python3"
  },
  "language_info": {
   "codemirror_mode": {
    "name": "ipython",
    "version": 3
   },
   "file_extension": ".py",
   "mimetype": "text/x-python",
   "name": "python",
   "nbconvert_exporter": "python",
   "pygments_lexer": "ipython3",
   "version": "3.6.9"
  },
  "widgets": {
   "application/vnd.jupyter.widget-state+json": {
    "state": {},
    "version_major": 2,
    "version_minor": 0
   }
  }
 },
 "nbformat": 4,
 "nbformat_minor": 4
}
