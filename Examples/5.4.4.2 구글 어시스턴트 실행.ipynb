{
 "cells": [
  {
   "cell_type": "code",
   "execution_count": null,
   "metadata": {},
   "outputs": [],
   "source": [
    "from popAssist import *\n",
    "\n",
    "stream = create_conversation_stream()\n",
    "ga = GAssistant(stream)\n",
    "\n",
    "print(\"Taking about...\")\n",
    "ga.assist()\n",
    "\n",
    "print(\"Bye...\")\n",
    "stream.close()"
   ]
  },
  {
   "cell_type": "code",
   "execution_count": null,
   "metadata": {},
   "outputs": [],
   "source": [
    "from popAssist import *\n",
    "\n",
    "stream = create_conversation_stream()\n",
    "ga = GAssistant(stream)\n",
    "\n",
    "print(\"Current volume: %d\"%(stream.volume_percentage))\n",
    "stream.volume_percentage = 100\n",
    "\n",
    "print(\"Taking about...\")\n",
    "ga.assist()\n",
    "\n",
    "print(\"Bye...\")\n",
    "stream.close()"
   ]
  },
  {
   "cell_type": "code",
   "execution_count": null,
   "metadata": {},
   "outputs": [],
   "source": [
    "from popAssist import *\n",
    "\n",
    "stream = create_conversation_stream()\n",
    "ga = GAssistant(stream)\n",
    "\n",
    "def onStart():\n",
    "    print(\">>> start recording....\")\n",
    "\n",
    "def onStop():\n",
    "    print(\">>> stop response...\")\n",
    "\n",
    "ga.assist(onStart, onStop)\n",
    "stream.close()"
   ]
  },
  {
   "cell_type": "code",
   "execution_count": null,
   "metadata": {},
   "outputs": [],
   "source": [
    "from popAssist import *\n",
    "import time\n",
    "\n",
    "stream = create_conversation_stream()\n",
    "ga = GAssistant(stream)\n",
    "\n",
    "try:\n",
    "    def onStart():\n",
    "        print(\">>> start recording....\")\n",
    "\n",
    "    def onStop():\n",
    "        ga.assist(onStart, onStop)\n",
    "\n",
    "    ga.assist(onStart, onStop)\n",
    "    while True: \n",
    "        print(\"main work...\")\n",
    "        time.sleep(2)\n",
    "except KeyboardInterrupt:\n",
    "    stream.close()"
   ]
  }
 ],
 "metadata": {
  "kernelspec": {
   "display_name": "Python 3",
   "language": "python",
   "name": "python3"
  },
  "language_info": {
   "codemirror_mode": {
    "name": "ipython",
    "version": 3
   },
   "file_extension": ".py",
   "mimetype": "text/x-python",
   "name": "python",
   "nbconvert_exporter": "python",
   "pygments_lexer": "ipython3",
   "version": "3.6.9"
  }
 },
 "nbformat": 4,
 "nbformat_minor": 4
}
