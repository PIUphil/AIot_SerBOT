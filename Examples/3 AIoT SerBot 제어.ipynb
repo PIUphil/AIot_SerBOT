{
 "cells": [
  {
   "cell_type": "code",
   "execution_count": null,
   "metadata": {},
   "outputs": [],
   "source": [
    "import time\n",
    "from pop import Pilot\n",
    "\n",
    "bot = Pilot.SerBot()\n",
    "bot.setSpeed(99)"
   ]
  },
  {
   "cell_type": "code",
   "execution_count": null,
   "metadata": {},
   "outputs": [],
   "source": [
    "bot.move(0,99)\n",
    "\n",
    "time.sleep(1)\n",
    "\n",
    "bot.move(90,99)\n",
    "\n",
    "time.sleep(1)\n",
    "\n",
    "bot.move(180,99)\n",
    "\n",
    "time.sleep(1)\n",
    "\n",
    "bot.move(270,99)\n",
    "\n",
    "time.sleep(1)\n",
    "\n",
    "bot.stop()"
   ]
  },
  {
   "cell_type": "code",
   "execution_count": null,
   "metadata": {},
   "outputs": [],
   "source": [
    "bot.forward()\n",
    "bot.steering = -0.5\n",
    "\n",
    "time.sleep(1)\n",
    "\n",
    "bot.backward()\n",
    "bot.steering = 0.5\n",
    "\n",
    "time.sleep(1)\n",
    "\n",
    "bot.stop()"
   ]
  },
  {
   "cell_type": "code",
   "execution_count": null,
   "metadata": {},
   "outputs": [],
   "source": [
    "bot.setSpeed(50)\n",
    "bot.forward()\n",
    "\n",
    "time.sleep(1)\n",
    "\n",
    "bot.backward(99)\n",
    "\n",
    "time.sleep(1)\n",
    "\n",
    "bot.stop()"
   ]
  },
  {
   "cell_type": "code",
   "execution_count": null,
   "metadata": {},
   "outputs": [],
   "source": [
    "bot.joystick()"
   ]
  },
  {
   "cell_type": "code",
   "execution_count": null,
   "metadata": {},
   "outputs": [],
   "source": [
    "value = bot.getGyro()\n",
    "print(value)\n",
    "\n",
    "time.sleep(1)\n",
    "\n",
    "value = bot.getGyro('z')\n",
    "print(value) "
   ]
  },
  {
   "cell_type": "code",
   "execution_count": null,
   "metadata": {},
   "outputs": [],
   "source": [
    "value = bot.getAccel()\n",
    "print(value)\n",
    "\n",
    "time.sleep(1)\n",
    "\n",
    "value = bot.getAccel('z')\n",
    "print(value) "
   ]
  },
  {
   "cell_type": "code",
   "execution_count": null,
   "metadata": {},
   "outputs": [],
   "source": [
    "from pop import LiDAR\n",
    "\n",
    "lidar = LiDAR.Rplidar()"
   ]
  },
  {
   "cell_type": "code",
   "execution_count": null,
   "metadata": {},
   "outputs": [],
   "source": [
    "lidar.connect() \n",
    "lidar.startMotor()"
   ]
  },
  {
   "cell_type": "code",
   "execution_count": null,
   "metadata": {},
   "outputs": [],
   "source": [
    "vectors = lidar.getVectors()\n",
    "\n",
    "for v in vectors:\n",
    "\tprint(v)"
   ]
  },
  {
   "cell_type": "code",
   "execution_count": null,
   "metadata": {},
   "outputs": [],
   "source": [
    "coords = lidar.getXY()\n",
    "\n",
    "for c in coords:\n",
    "\tprint(c)"
   ]
  },
  {
   "cell_type": "code",
   "execution_count": null,
   "metadata": {},
   "outputs": [],
   "source": [
    "from pop.Util import imshow\n",
    "\n",
    "lidar_map = lidar.getMap(limit_distance=2000, size=(300,300))\n",
    "imshow(\"map\", lidar_map)"
   ]
  },
  {
   "cell_type": "code",
   "execution_count": null,
   "metadata": {},
   "outputs": [],
   "source": [
    "lidar_map = lidar.getMap(limit_distance=2000, size=(50,50))\n",
    "imshow(\"map2\", lidar_map)"
   ]
  }
 ],
 "metadata": {
  "kernelspec": {
   "display_name": "Python 3",
   "language": "python",
   "name": "python3"
  },
  "language_info": {
   "codemirror_mode": {
    "name": "ipython",
    "version": 3
   },
   "file_extension": ".py",
   "mimetype": "text/x-python",
   "name": "python",
   "nbconvert_exporter": "python",
   "pygments_lexer": "ipython3",
   "version": "3.6.9"
  },
  "widgets": {
   "application/vnd.jupyter.widget-state+json": {
    "state": {},
    "version_major": 2,
    "version_minor": 0
   }
  }
 },
 "nbformat": 4,
 "nbformat_minor": 4
}
