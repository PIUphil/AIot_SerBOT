{
 "cells": [
  {
   "cell_type": "code",
   "execution_count": null,
   "metadata": {},
   "outputs": [],
   "source": [
    "import pandas as pd\n",
    "\n",
    "value = [[32, 68, 220, 72],\n",
    "        [28, 30, 0, 12],\n",
    "        [38, 81, 0, 91]]\n",
    "columns = [\"온도\", \"습도\", \"강수량\", \"불쾌지수\"]\n",
    "index = [\"초여름\", \"늦봄\", \"한여름\"]\n",
    "df = pd.DataFrame(value, index=index, columns=columns)\n",
    "\n",
    "print(df.loc[\"초여름\", \"온도\"])\n",
    "print(df.loc[:, \"온도\"])\n",
    "print(df.loc[:,\"습도\":\"강수량\"])"
   ]
  },
  {
   "cell_type": "code",
   "execution_count": null,
   "metadata": {},
   "outputs": [],
   "source": [
    "import pandas as pd\n",
    "\n",
    "value = [[32, 68, 220, 72],\n",
    "        [28, 30, 0, 12],\n",
    "        [38, 81, 0, 91]]\n",
    "columns = [\"온도\", \"습도\", \"강수량\", \"불쾌지수\"]\n",
    "index = [\"초여름\", \"늦봄\", \"한여름\"]\n",
    "df = pd.DataFrame(value, index=index, columns=columns)\n",
    "\n",
    "cond = df[\"온도\"]>=30\n",
    "print(df[cond])"
   ]
  },
  {
   "cell_type": "code",
   "execution_count": null,
   "metadata": {},
   "outputs": [],
   "source": [
    "cond = df[\"온도\"]>=30\n",
    "print(df[cond][\"습도\"])"
   ]
  }
 ],
 "metadata": {
  "kernelspec": {
   "display_name": "Python 3",
   "language": "python",
   "name": "python3"
  },
  "language_info": {
   "codemirror_mode": {
    "name": "ipython",
    "version": 3
   },
   "file_extension": ".py",
   "mimetype": "text/x-python",
   "name": "python",
   "nbconvert_exporter": "python",
   "pygments_lexer": "ipython3",
   "version": "3.6.9"
  },
  "widgets": {
   "application/vnd.jupyter.widget-state+json": {
    "state": {},
    "version_major": 2,
    "version_minor": 0
   }
  }
 },
 "nbformat": 4,
 "nbformat_minor": 4
}
