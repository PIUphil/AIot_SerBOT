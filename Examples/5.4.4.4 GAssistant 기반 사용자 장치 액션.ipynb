{
 "cells": [
  {
   "cell_type": "code",
   "execution_count": null,
   "metadata": {},
   "outputs": [],
   "source": [
    "from popAssist import *\n",
    "import subprocess\n",
    "\n",
    "def userAction(text): # 로컬 사용자 액션 핸들러\n",
    "    print(text)\n",
    "\n",
    "    return True\n",
    "\n",
    "stream = create_conversation_stream()\n",
    "ga = GAssistant(stream, local_device_handler=userAction) \n",
    "\n",
    "try:\n",
    "    def onStart():\n",
    "        print(\">>> Start recording....\")\n",
    "\n",
    "    while True: \n",
    "        ga.assist(onStart)\n",
    "except KeyboardInterrupt:\n",
    "    stream.close()"
   ]
  },
  {
   "cell_type": "code",
   "execution_count": null,
   "metadata": {},
   "outputs": [],
   "source": [
    "from popAssist import *\n",
    "from pop import Camera\n",
    "import cv2\n",
    "import subprocess\n",
    "\n",
    "cam = Camera(width=300, height=300)\n",
    "\n",
    "def userAction(text): \n",
    "    action = False\n",
    "\n",
    "    r = text.find(\"사진\")\n",
    "    if r != -1 and text.find(\"찍어\", r) != -1:\n",
    "        print(\"Take picture...\")\n",
    "        cv2.imwrite(\"picture.png\", cam.value)\n",
    "        action = True\n",
    "\n",
    "    return action\n",
    "\n",
    "stream = create_conversation_stream()\n",
    "ga = GAssistant(stream, local_device_handler=userAction) \n",
    "\n",
    "try:\n",
    "    def onStart():\n",
    "        print(\">>> Start recording....\")\n",
    "\n",
    "    while True: \n",
    "        ga.assist(onStart)\n",
    "except KeyboardInterrupt:\n",
    "    stream.close()"
   ]
  }
 ],
 "metadata": {
  "kernelspec": {
   "display_name": "Python 3",
   "language": "python",
   "name": "python3"
  },
  "language_info": {
   "codemirror_mode": {
    "name": "ipython",
    "version": 3
   },
   "file_extension": ".py",
   "mimetype": "text/x-python",
   "name": "python",
   "nbconvert_exporter": "python",
   "pygments_lexer": "ipython3",
   "version": "3.8.2"
  }
 },
 "nbformat": 4,
 "nbformat_minor": 4
}
