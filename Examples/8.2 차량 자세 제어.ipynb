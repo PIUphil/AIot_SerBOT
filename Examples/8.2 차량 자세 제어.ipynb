{
 "cells": [
  {
   "cell_type": "code",
   "execution_count": null,
   "metadata": {},
   "outputs": [],
   "source": [
    "from pop import Pilot\n",
    "import numpy as np\n",
    "import time\n",
    "\n",
    "Car = Pilot.AutoCar()\n",
    "Car.correctError( -0.1206646 )"
   ]
  },
  {
   "cell_type": "code",
   "execution_count": null,
   "metadata": {},
   "outputs": [],
   "source": [
    "dataset={ ‘gyro’ : [], ‘steer’ : [] }\n",
    "\n",
    "for n in np.arange(-1, 1.1, 0.2):\n",
    "\tn = round(n,1)\n",
    "\n",
    "\tif n == 0.0 :\n",
    "\t          continue\n",
    "\n",
    "\tCar.steering = n\n",
    "\tCar.forward()\n",
    "\n",
    "\ttime.sleep(0.5)\n",
    "\n",
    "\tm = Car.getGyro(‘z’)\n",
    "\n",
    "\ttime.sleep(0.5)\n",
    "\n",
    "\tCar.backward()\n",
    "\n",
    "\ttime.sleep(1)\n",
    "\n",
    "\tCar.stop()\n",
    "\n",
    "\tn = -n  #조향 제어값을 반전하여 저장\n",
    "\n",
    "\tdataset[‘gyro’].append( m )\n",
    "\tdataset[‘steer’].append( n ) \n",
    "\n",
    "\tprint({ ‘gyro’ : m , ‘steer’ : n }) "
   ]
  },
  {
   "cell_type": "code",
   "execution_count": null,
   "metadata": {},
   "outputs": [],
   "source": [
    "from pop import AI\n",
    "\n",
    "LR=AI.Linear_Regression(input_size=1, output_size=1) \n",
    "LR.X_data=dataset[‘gyro’]\n",
    "LR.Y_data=dataset[‘steer’]\n",
    "\n",
    "LR.train(times=5000, print_every=100)"
   ]
  },
  {
   "cell_type": "code",
   "execution_count": null,
   "metadata": {},
   "outputs": [],
   "source": [
    "Car.forward()\n",
    "\n",
    "while True:\n",
    "    err = Car.getGyro('z')\n",
    "    value = LR.run([err])\n",
    "\n",
    "    Car.steering = value / 3\n",
    "    time.sleep(0.1)"
   ]
  }
 ],
 "metadata": {
  "kernelspec": {
   "display_name": "Python 3",
   "language": "python",
   "name": "python3"
  },
  "language_info": {
   "codemirror_mode": {
    "name": "ipython",
    "version": 3
   },
   "file_extension": ".py",
   "mimetype": "text/x-python",
   "name": "python",
   "nbconvert_exporter": "python",
   "pygments_lexer": "ipython3",
   "version": "3.6.9"
  },
  "widgets": {
   "application/vnd.jupyter.widget-state+json": {
    "state": {},
    "version_major": 2,
    "version_minor": 0
   }
  }
 },
 "nbformat": 4,
 "nbformat_minor": 4
}
