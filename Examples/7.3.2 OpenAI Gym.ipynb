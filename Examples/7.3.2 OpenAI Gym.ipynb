{
 "cells": [
  {
   "cell_type": "code",
   "execution_count": null,
   "metadata": {},
   "outputs": [],
   "source": [
    "%set_env DISPLAY=:0.0"
   ]
  },
  {
   "cell_type": "code",
   "execution_count": null,
   "metadata": {},
   "outputs": [],
   "source": [
    "import gym\n",
    "import pyglet.gl\n",
    "from pop import Util\n",
    "\n",
    "\n",
    "env = gym.make('CartPole-v1')\n",
    "for i_episode in range(20):\n",
    "    state = env.reset()\n",
    "    for t in range(100):\n",
    "        img = env.render(mode = 'rgb_array')\n",
    "        Util.imshow(\"CartPole\", img, mode='RGB')\n",
    "        \n",
    "        action = env.action_space.sample()\n",
    "        state, reward, done, _ = env.step(action)\n",
    "        if done:\n",
    "            print(\"Episode finished after {} timesteps\".format(t+1))\n",
    "            break\n",
    "env.close()"
   ]
  },
  {
   "cell_type": "code",
   "execution_count": null,
   "metadata": {},
   "outputs": [],
   "source": [
    "import gym\n",
    "from pop import AI, Util\n",
    "\n",
    "DQN=AI.DQN(state_size=4)\n",
    "\n",
    "env = gym.make('CartPole-v1')"
   ]
  },
  {
   "cell_type": "code",
   "execution_count": null,
   "metadata": {},
   "outputs": [],
   "source": [
    "for i_episode in range(1000):\n",
    "        state = env.reset()\n",
    "        step = 0\n",
    "        total_reward = 0\n",
    "        \n",
    "        states, rewards, actions=[], [], []\n",
    "        \n",
    "        while True:\n",
    "            img = env.render(mode = 'rgb_array')\n",
    "            Util.imshow(\"CartPole\", img, mode='RGB')\n",
    "\n",
    "           \n",
    "            action=DQN.run([state])\n",
    "           \n",
    "            state, reward, done, _ = env.step(action)\n",
    "           \n",
    "            states.append(state)\n",
    "            rewards.append(reward)\n",
    "            actions.append(action)\n",
    "           \n",
    "            total_reward+=reward\n",
    "            step+=1\n",
    "            \n",
    "            if done:\n",
    "                print(\"Done after {} steps\".format(step+1))\n",
    "                       \n",
    "                loss=DQN.train(states, rewards, actions)\n",
    "                print('episode '+ str(i_episode + 1)+\" reward : \", total_reward, \", loss : \",loss)\n",
    "                break\n",
    "                \n",
    "env.close()"
   ]
  }
 ],
 "metadata": {
  "kernelspec": {
   "display_name": "Python 3",
   "language": "python",
   "name": "python3"
  },
  "language_info": {
   "codemirror_mode": {
    "name": "ipython",
    "version": 3
   },
   "file_extension": ".py",
   "mimetype": "text/x-python",
   "name": "python",
   "nbconvert_exporter": "python",
   "pygments_lexer": "ipython3",
   "version": "3.6.9"
  },
  "widgets": {
   "application/vnd.jupyter.widget-state+json": {
    "state": {},
    "version_major": 2,
    "version_minor": 0
   }
  }
 },
 "nbformat": 4,
 "nbformat_minor": 4
}
