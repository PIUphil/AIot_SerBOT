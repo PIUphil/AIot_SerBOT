{
 "cells": [
  {
   "cell_type": "code",
   "execution_count": null,
   "metadata": {},
   "outputs": [],
   "source": [
    "import time\n",
    "from pop import *\n",
    "\n",
    "sm = SoundMeter()\n",
    "\n",
    "def onSoundMeter(rms, inData):\n",
    "    if(rms>600):\n",
    "        print(rms)\n",
    "\n",
    "sm.setCallback(onSoundMeter)\n",
    "\n",
    "input(\"input something\")\n",
    "\n",
    "sm.stop()"
   ]
  }
 ],
 "metadata": {
  "kernelspec": {
   "display_name": "Python 3",
   "language": "python",
   "name": "python3"
  },
  "language_info": {
   "codemirror_mode": {
    "name": "ipython",
    "version": 3
   },
   "file_extension": ".py",
   "mimetype": "text/x-python",
   "name": "python",
   "nbconvert_exporter": "python",
   "pygments_lexer": "ipython3",
   "version": "3.6.9"
  }
 },
 "nbformat": 4,
 "nbformat_minor": 4
}
