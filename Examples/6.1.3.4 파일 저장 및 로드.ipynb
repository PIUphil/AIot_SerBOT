{
 "cells": [
  {
   "cell_type": "code",
   "execution_count": null,
   "metadata": {},
   "outputs": [],
   "source": [
    "import numpy as np\n",
    "\n",
    "x =  np.random.random(20)\n",
    "print(x)\n",
    "\n",
    "np.save(\"randoms\", x)\n",
    "\n",
    "y=np.load(\"randoms.npy\")\n",
    "print(y)"
   ]
  },
  {
   "cell_type": "code",
   "execution_count": null,
   "metadata": {},
   "outputs": [],
   "source": [
    "import numpy as np\n",
    "\n",
    "x =  np.random.random(20)\n",
    "print(x)\n",
    "y =  np.random.random(2)\n",
    "print(y) \n",
    "\n",
    "np.savez(\"randoms\", arr1=x, arr2=y)\n",
    "\n",
    "z=np.load(\"randoms.npz\")\n",
    "print(z[\"arr1\"])\n",
    "print(z[\"arr2\"])\n",
    "z.close()"
   ]
  },
  {
   "cell_type": "code",
   "execution_count": null,
   "metadata": {},
   "outputs": [],
   "source": [
    "import numpy as np\n",
    "\n",
    "x =  np.arange(20)\n",
    "print(x) \n",
    "\n",
    "np.savetxt(\"texts.txt\", x)\n",
    "\n",
    "y=np.loadtxt(\"texts.txt\")\n",
    "print(y)"
   ]
  }
 ],
 "metadata": {
  "kernelspec": {
   "display_name": "Python 3",
   "language": "python",
   "name": "python3"
  },
  "language_info": {
   "codemirror_mode": {
    "name": "ipython",
    "version": 3
   },
   "file_extension": ".py",
   "mimetype": "text/x-python",
   "name": "python",
   "nbconvert_exporter": "python",
   "pygments_lexer": "ipython3",
   "version": "3.6.9"
  },
  "widgets": {
   "application/vnd.jupyter.widget-state+json": {
    "state": {},
    "version_major": 2,
    "version_minor": 0
   }
  }
 },
 "nbformat": 4,
 "nbformat_minor": 4
}
