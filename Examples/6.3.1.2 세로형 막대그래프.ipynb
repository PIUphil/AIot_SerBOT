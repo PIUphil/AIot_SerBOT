{
 "cells": [
  {
   "cell_type": "code",
   "execution_count": null,
   "metadata": {},
   "outputs": [],
   "source": [
    "import matplotlib.pyplot as plt\n",
    "import numpy as np\n",
    "\n",
    "data=np.random.random(10)\n",
    "plt.bar(np.arange(10), data)\n",
    "plt.show()"
   ]
  },
  {
   "cell_type": "code",
   "execution_count": null,
   "metadata": {},
   "outputs": [],
   "source": [
    "plt.bar(np.arange(10), data, width=0.1)\n",
    "plt.show()\n",
    "plt.bar(np.arange(10), data, align='edge')\n",
    "plt.show()"
   ]
  },
  {
   "cell_type": "code",
   "execution_count": null,
   "metadata": {},
   "outputs": [],
   "source": [
    "import matplotlib.pyplot as plt\n",
    "import numpy as np\n",
    "\n",
    "data=np.random.random(30).reshape(3,10)\n",
    "plt.bar(np.arange(10), data[0], color='r')\n",
    "plt.bar(np.arange(10), data[1], color='g')\n",
    "plt.bar(np.arange(10), data[2], color='b')\n",
    "plt.show()"
   ]
  },
  {
   "cell_type": "code",
   "execution_count": null,
   "metadata": {},
   "outputs": [],
   "source": [
    "data=np.random.random(15).reshape(3,5)\n",
    "plt.bar(np.arange(0,25,5), data[0], color='r')\n",
    "plt.bar(np.arange(0,25,5)+1, data[1], color='g')\n",
    "plt.bar(np.arange(0,25,5)+2, data[2], color='b')\n",
    "plt.show()"
   ]
  },
  {
   "cell_type": "code",
   "execution_count": null,
   "metadata": {},
   "outputs": [],
   "source": [
    "import matplotlib.pyplot as plt\n",
    "import numpy as np\n",
    "\n",
    "data=np.random.random(20).reshape(2,10)\n",
    "plt.bar(np.arange(10), data[0], color='r')\n",
    "plt.bar(np.arange(10), -data[1], color='b')\n",
    "plt.show()"
   ]
  },
  {
   "cell_type": "code",
   "execution_count": null,
   "metadata": {},
   "outputs": [],
   "source": [
    "import matplotlib.pyplot as plt\n",
    "import numpy as np\n",
    "\n",
    "data=np.random.random(20).reshape(2,10)\n",
    "plt.bar(np.arange(10), data[0], color='r')\n",
    "plt.bar(np.arange(10), data[1], color='b', bottom=data[0])\n",
    "plt.show()"
   ]
  }
 ],
 "metadata": {
  "kernelspec": {
   "display_name": "Python 3",
   "language": "python",
   "name": "python3"
  },
  "language_info": {
   "codemirror_mode": {
    "name": "ipython",
    "version": 3
   },
   "file_extension": ".py",
   "mimetype": "text/x-python",
   "name": "python",
   "nbconvert_exporter": "python",
   "pygments_lexer": "ipython3",
   "version": "3.6.9"
  },
  "widgets": {
   "application/vnd.jupyter.widget-state+json": {
    "state": {},
    "version_major": 2,
    "version_minor": 0
   }
  }
 },
 "nbformat": 4,
 "nbformat_minor": 4
}
