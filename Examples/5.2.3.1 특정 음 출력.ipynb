{
 "cells": [
  {
   "cell_type": "code",
   "execution_count": null,
   "metadata": {},
   "outputs": [],
   "source": [
    "import pyaudio\n",
    "import numpy as np\n",
    "\n",
    "volume = 0.5\n",
    "fs = 48000\n",
    "duration = 1.0\n",
    "f = 440.0\n",
    "\n",
    "data = (np.sin(2 * np.pi * np.arange(fs * duration) * f/fs)).astype(np. float32)\n",
    "\n",
    "p = pyaudio.PyAudio()\n",
    "stream = p.open(format=pyaudio.paFloat32, channels=1, rate=fs, output=True)\n",
    "stream.write(volume * data)\n",
    "\n",
    "stream.stop_stream()\n",
    "stream.close() \n",
    "p.terminate()"
   ]
  }
 ],
 "metadata": {
  "kernelspec": {
   "display_name": "Python 3",
   "language": "python",
   "name": "python3"
  },
  "language_info": {
   "codemirror_mode": {
    "name": "ipython",
    "version": 3
   },
   "file_extension": ".py",
   "mimetype": "text/x-python",
   "name": "python",
   "nbconvert_exporter": "python",
   "pygments_lexer": "ipython3",
   "version": "3.6.9"
  }
 },
 "nbformat": 4,
 "nbformat_minor": 4
}
