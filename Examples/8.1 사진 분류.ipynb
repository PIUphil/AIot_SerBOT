{
 "cells": [
  {
   "cell_type": "code",
   "execution_count": null,
   "metadata": {},
   "outputs": [],
   "source": [
    "from pop import AI, Pilot\n",
    "import numpy as np\n",
    "import cv2\n",
    "\n",
    "IMG_AMOUNT = 33\n",
    "\n",
    "X_data=[]\n",
    "Y_data=[]\n",
    "\n",
    "for i in range(IMG_AMOUNT):\n",
    "    img=cv2.imread('./img/'+str(i)+'.jpg')\n",
    "    img=cv2.cvtColor(img, cv2.COLOR_BGR2GRAY)\n",
    "    img=cv2.resize(img, (50,50), interpolation=cv2.INTER_AREA)\n",
    "    X_data.append(img.reshape(50,50,1).astype(float))\n",
    "    y=np.loadtxt('./img/'+str(i)+'.txt')\n",
    "    Y_data.append(y)"
   ]
  },
  {
   "cell_type": "code",
   "execution_count": null,
   "metadata": {
    "scrolled": true
   },
   "outputs": [],
   "source": [
    "CNN=AI.CNN(input_size=[50,50], output_size=2)\n",
    "CNN.X_data=X_data\n",
    "CNN.Y_data=Y_data\n",
    "\n",
    "CNN.train(times=500)"
   ]
  },
  {
   "cell_type": "code",
   "execution_count": null,
   "metadata": {},
   "outputs": [],
   "source": [
    "CNN.run([CNN.X_data[20]])"
   ]
  },
  {
   "cell_type": "code",
   "execution_count": null,
   "metadata": {},
   "outputs": [],
   "source": [
    "CNN.run([CNN.X_data[7]])"
   ]
  },
  {
   "cell_type": "code",
   "execution_count": null,
   "metadata": {},
   "outputs": [],
   "source": [
    "cam = Pilot.Camera()"
   ]
  },
  {
   "cell_type": "code",
   "execution_count": null,
   "metadata": {},
   "outputs": [],
   "source": [
    "frame = cam.value\n",
    "frame = cv2.cvtColor(frame, cv2.COLOR_BGR2GRAY)\n",
    "frame = cv2.resize(frame, (50, 50), interpolation=cv2.INTER_AREA)\n",
    "CNN.run([frame.reshape(50,50,1)])"
   ]
  }
 ],
 "metadata": {
  "kernelspec": {
   "display_name": "Python 3",
   "language": "python",
   "name": "python3"
  },
  "language_info": {
   "codemirror_mode": {
    "name": "ipython",
    "version": 3
   },
   "file_extension": ".py",
   "mimetype": "text/x-python",
   "name": "python",
   "nbconvert_exporter": "python",
   "pygments_lexer": "ipython3",
   "version": "3.6.9"
  },
  "widgets": {
   "application/vnd.jupyter.widget-state+json": {
    "state": {},
    "version_major": 2,
    "version_minor": 0
   }
  }
 },
 "nbformat": 4,
 "nbformat_minor": 4
}
