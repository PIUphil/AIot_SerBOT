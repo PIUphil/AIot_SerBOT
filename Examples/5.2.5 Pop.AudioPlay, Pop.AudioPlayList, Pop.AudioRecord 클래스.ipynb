{
 "cells": [
  {
   "cell_type": "code",
   "execution_count": null,
   "metadata": {},
   "outputs": [],
   "source": [
    "from pop import AudioRecord, AudioPlay\n",
    "import time"
   ]
  },
  {
   "cell_type": "code",
   "execution_count": null,
   "metadata": {},
   "outputs": [],
   "source": [
    "with AudioRecord(\"my_record.wav\") as record:\n",
    "    record.run()\n",
    "    print(\"Start Recording...\") \n",
    "\n",
    "    for _ in range(5):\n",
    "        time.sleep(1)\n",
    "\n",
    "    record.stop()\n",
    "    print(\"Stop Recording...\")"
   ]
  },
  {
   "cell_type": "code",
   "execution_count": null,
   "metadata": {},
   "outputs": [],
   "source": [
    "with AudioPlay(\"my_record.wav\", False, True) as play:   \n",
    "    play.run()\n",
    "    print(\"Start Play...\")\n",
    "    for _ in range(12):  \n",
    "        time.sleep(1)\n",
    "\n",
    "    play.stop()\n",
    "    print(\"Stop play...\")"
   ]
  }
 ],
 "metadata": {
  "kernelspec": {
   "display_name": "Python 3",
   "language": "python",
   "name": "python3"
  },
  "language_info": {
   "codemirror_mode": {
    "name": "ipython",
    "version": 3
   },
   "file_extension": ".py",
   "mimetype": "text/x-python",
   "name": "python",
   "nbconvert_exporter": "python",
   "pygments_lexer": "ipython3",
   "version": "3.6.9"
  }
 },
 "nbformat": 4,
 "nbformat_minor": 4
}
