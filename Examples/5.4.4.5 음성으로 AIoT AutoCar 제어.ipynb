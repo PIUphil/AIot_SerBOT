{
 "cells": [
  {
   "cell_type": "code",
   "execution_count": null,
   "metadata": {},
   "outputs": [],
   "source": [
    "from pop import Pilot\n",
    "from popAssist import *\n",
    "\n",
    "Car = Pilot.AutoCar()"
   ]
  },
  {
   "cell_type": "code",
   "execution_count": null,
   "metadata": {},
   "outputs": [],
   "source": [
    "def userAction(text): \n",
    "    action = False\n",
    "    \n",
    "    print(text)\n",
    "\n",
    "    if text.find(\"전진\") != -1:\n",
    "        Car.forward()\n",
    "        action = True\n",
    "    elif text.find(\"후진\") != -1:\n",
    "        Car.backward()\n",
    "        action = True\n",
    "    elif text.find(\"정지\") != -1:\n",
    "        Car.stop()\n",
    "        action = True\n",
    "\n",
    "    return action"
   ]
  },
  {
   "cell_type": "code",
   "execution_count": null,
   "metadata": {},
   "outputs": [],
   "source": [
    "stream = create_conversation_stream()\n",
    "ga = GAssistant(stream, local_device_handler=userAction) \n",
    "    \n",
    "try:\n",
    "    \n",
    "    def onStart():\n",
    "        print(\">>> Start recording....\")\n",
    "\n",
    "    while True: \n",
    "        ga.assist(onStart)\n",
    "except KeyboardInterrupt:\n",
    "    stream.close()"
   ]
  }
 ],
 "metadata": {
  "kernelspec": {
   "display_name": "Python 3",
   "language": "python",
   "name": "python3"
  },
  "language_info": {
   "codemirror_mode": {
    "name": "ipython",
    "version": 3
   },
   "file_extension": ".py",
   "mimetype": "text/x-python",
   "name": "python",
   "nbconvert_exporter": "python",
   "pygments_lexer": "ipython3",
   "version": "3.8.2"
  }
 },
 "nbformat": 4,
 "nbformat_minor": 4
}
