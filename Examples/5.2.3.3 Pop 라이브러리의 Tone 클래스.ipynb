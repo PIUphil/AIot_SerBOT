{
 "cells": [
  {
   "cell_type": "code",
   "execution_count": null,
   "metadata": {},
   "outputs": [],
   "source": [
    "from pop import Tone\n",
    "\n",
    "shoolBall1 = ((4, \"SOL\", 1/4), (4, \"SOL\", 1/4), (4, \"RA\", 1/4), (4, \"RA\", 1/4),        (4, \"SOL\", 1/4), (4, \"SOL\", 1/4), (4, \"MI\", 1/2), (4, \"SOL\", 1/4),        (4, \"SOL\", 1/4), (4, \"MI\", 1/4), (4, \"MI\", 1/4), (4, \"RE\", 1/2 + 1/4))\n",
    "\n",
    "shoolBall2 = (*shoolBall1[:7],        (4, \"SOL\", 1/4), (4, \"MI\", 1/4), (4, \"RE\", 1/4), (4, \"MI\", 1/4), (4, \"DO\", 1/2 + 1/4))\n",
    "\n",
    "with Tone() as tone:\n",
    "    tone.setTempo(200)\n",
    "\n",
    "    for n in shoolBall1:\n",
    "        tone.play(*n)\n",
    "    tone.rest(1/4)\n",
    "\n",
    "    for n in shoolBall2:\n",
    "        tone.play(*n)\n",
    "    tone.rest(1/4)"
   ]
  }
 ],
 "metadata": {
  "kernelspec": {
   "display_name": "Python 3",
   "language": "python",
   "name": "python3"
  },
  "language_info": {
   "codemirror_mode": {
    "name": "ipython",
    "version": 3
   },
   "file_extension": ".py",
   "mimetype": "text/x-python",
   "name": "python",
   "nbconvert_exporter": "python",
   "pygments_lexer": "ipython3",
   "version": "3.6.9"
  }
 },
 "nbformat": 4,
 "nbformat_minor": 4
}
