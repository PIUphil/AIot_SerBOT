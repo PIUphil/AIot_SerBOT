{
 "cells": [
  {
   "cell_type": "markdown",
   "metadata": {},
   "source": [
    "# 데이터 수집"
   ]
  },
  {
   "cell_type": "code",
   "execution_count": null,
   "metadata": {},
   "outputs": [],
   "source": [
    "from pop import Dataset\n",
    "\n",
    "Dataset.Collector(\"Audio\")"
   ]
  },
  {
   "cell_type": "markdown",
   "metadata": {},
   "source": [
    "<br><br>\n",
    "\n",
    "# 데이터 딥러닝"
   ]
  },
  {
   "cell_type": "code",
   "execution_count": null,
   "metadata": {},
   "outputs": [],
   "source": [
    "from pop import AI\n",
    "from pop import Util\n",
    "import os\n",
    "import numpy as np\n",
    "\n",
    "X_data=[]\n",
    "Y_data=[]\n",
    "\n",
    "datalist = os.listdir(\"audio_datasets\")\n",
    "\n",
    "for data in datalist:\n",
    "    feat = Util.toMFCC(\"audio_datasets/\" + data, \n",
    "                        duration=1)\n",
    "    label = int(data.split(\"_\")[0])\n",
    "    label = Util.one_hot(label,10)\n",
    "    \n",
    "    X_data.append(feat)\n",
    "    Y_data.append(label)\n",
    "\n",
    "X_data=np.array(X_data)\n",
    "Y_data=np.array(Y_data)"
   ]
  },
  {
   "cell_type": "code",
   "execution_count": null,
   "metadata": {},
   "outputs": [],
   "source": [
    "dataset_size = X_data.shape[1:3]\n",
    "CNN=AI.CNN(input_size=dataset_size, output_size=10)\n",
    "\n",
    "CNN.X_data=X_data\n",
    "CNN.Y_data=Y_data\n",
    "\n",
    "CNN.train(times=100)"
   ]
  },
  {
   "cell_type": "code",
   "execution_count": null,
   "metadata": {},
   "outputs": [],
   "source": [
    "Y=CNN.Y_data[20]\n",
    "R=CNN.run([CNN.X_data[20]])\n",
    "\n",
    "print(Y)\n",
    "print(R)"
   ]
  },
  {
   "cell_type": "code",
   "execution_count": null,
   "metadata": {},
   "outputs": [],
   "source": [
    "Dataset.Collector(\"Audio\")"
   ]
  },
  {
   "cell_type": "code",
   "execution_count": null,
   "metadata": {},
   "outputs": [],
   "source": [
    "data=Util.toMFCC(\"0_._tmp_20062516345466.wav\", duration=1)\n",
    "CNN.run([data])"
   ]
  }
 ],
 "metadata": {
  "kernelspec": {
   "display_name": "Python 3",
   "language": "python",
   "name": "python3"
  },
  "language_info": {
   "codemirror_mode": {
    "name": "ipython",
    "version": 3
   },
   "file_extension": ".py",
   "mimetype": "text/x-python",
   "name": "python",
   "nbconvert_exporter": "python",
   "pygments_lexer": "ipython3",
   "version": "3.6.9"
  },
  "widgets": {
   "application/vnd.jupyter.widget-state+json": {
    "state": {},
    "version_major": 2,
    "version_minor": 0
   }
  }
 },
 "nbformat": 4,
 "nbformat_minor": 4
}
