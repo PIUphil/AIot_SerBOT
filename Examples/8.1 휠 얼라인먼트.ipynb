{
 "cells": [
  {
   "cell_type": "code",
   "execution_count": null,
   "metadata": {},
   "outputs": [],
   "source": [
    "from pop import Pilot\n",
    "import numpy as np\n",
    "import time\n",
    "\n",
    "Car = Pilot.AutoCar()"
   ]
  },
  {
   "cell_type": "code",
   "execution_count": null,
   "metadata": {},
   "outputs": [],
   "source": [
    "dataset={ ‘gyro’ : [], ‘steer’ : [] }\n",
    "\n",
    "for n in np.arange(-1, 1.1, 0.2):\n",
    "\tn = round(n,1)\n",
    "\n",
    "\tCar.steering = n\n",
    "\tCar.forward()\n",
    "\n",
    "\ttime.sleep(0.5)\n",
    "\n",
    "\tm = Car.getGyro(‘z’)\n",
    "\n",
    "\ttime.sleep(0.5)\n",
    "\n",
    "\tCar.backward()\n",
    "\n",
    "\ttime.sleep(1)\n",
    "\n",
    "\tCar.stop()\n",
    "\n",
    "\tdataset[‘gyro’].append(m)\n",
    "\tdataset[‘steer’].append(n)\n",
    "\n",
    "\tprint({ ‘gyro’ : m , ‘steer’ : n })"
   ]
  },
  {
   "cell_type": "code",
   "execution_count": null,
   "metadata": {},
   "outputs": [],
   "source": [
    "from pop import AI\n",
    "\n",
    "LR=AI.Linear_Regression(input_size=1, output_size=1)\n",
    "LR.X_data=dataset[‘gyro’]\n",
    "LR.Y_data=dataset[‘steer’]\n",
    "\n",
    "LR.train(times=5000, print_every=100)"
   ]
  },
  {
   "cell_type": "code",
   "execution_count": null,
   "metadata": {},
   "outputs": [],
   "source": [
    "value = LR.run([0])\n",
    "print(value)"
   ]
  },
  {
   "cell_type": "code",
   "execution_count": null,
   "metadata": {},
   "outputs": [],
   "source": [
    "Car.steering = value[0]\n",
    "Car.forward()"
   ]
  }
 ],
 "metadata": {
  "kernelspec": {
   "display_name": "Python 3",
   "language": "python",
   "name": "python3"
  },
  "language_info": {
   "codemirror_mode": {
    "name": "ipython",
    "version": 3
   },
   "file_extension": ".py",
   "mimetype": "text/x-python",
   "name": "python",
   "nbconvert_exporter": "python",
   "pygments_lexer": "ipython3",
   "version": "3.8.2"
  },
  "widgets": {
   "application/vnd.jupyter.widget-state+json": {
    "state": {},
    "version_major": 2,
    "version_minor": 0
   }
  }
 },
 "nbformat": 4,
 "nbformat_minor": 4
}
